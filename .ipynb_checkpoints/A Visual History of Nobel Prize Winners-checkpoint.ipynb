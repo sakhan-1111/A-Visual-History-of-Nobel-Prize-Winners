{
 "cells": [
  {
   "cell_type": "markdown",
   "id": "908e8bfb",
   "metadata": {},
   "source": []
  },
  {
   "cell_type": "markdown",
   "id": "192d1f88",
   "metadata": {},
   "source": []
  },
  {
   "cell_type": "markdown",
   "id": "eea501cd",
   "metadata": {},
   "source": []
  },
  {
   "cell_type": "markdown",
   "id": "7f247df0",
   "metadata": {},
   "source": []
  },
  {
   "cell_type": "markdown",
   "id": "9a90d939",
   "metadata": {},
   "source": []
  },
  {
   "cell_type": "markdown",
   "id": "d33d9332",
   "metadata": {},
   "source": []
  },
  {
   "cell_type": "markdown",
   "id": "b3a8010f",
   "metadata": {},
   "source": []
  },
  {
   "cell_type": "markdown",
   "id": "c00ba7e6",
   "metadata": {},
   "source": []
  },
  {
   "cell_type": "markdown",
   "id": "1be2ed02",
   "metadata": {},
   "source": []
  },
  {
   "cell_type": "markdown",
   "id": "ad9217c2",
   "metadata": {},
   "source": []
  },
  {
   "cell_type": "markdown",
   "id": "abe2c9de",
   "metadata": {},
   "source": []
  },
  {
   "cell_type": "markdown",
   "id": "0dd91c56",
   "metadata": {},
   "source": []
  },
  {
   "cell_type": "markdown",
   "id": "aaf79a57",
   "metadata": {},
   "source": []
  },
  {
   "cell_type": "markdown",
   "id": "ce566877",
   "metadata": {},
   "source": []
  },
  {
   "cell_type": "markdown",
   "id": "359ec924",
   "metadata": {},
   "source": []
  },
  {
   "cell_type": "markdown",
   "id": "2dec9f45",
   "metadata": {},
   "source": []
  },
  {
   "cell_type": "markdown",
   "id": "8539abe7",
   "metadata": {},
   "source": []
  },
  {
   "cell_type": "markdown",
   "id": "2207e5ba",
   "metadata": {},
   "source": []
  },
  {
   "cell_type": "markdown",
   "id": "2a1d5c87",
   "metadata": {},
   "source": []
  },
  {
   "cell_type": "markdown",
   "id": "dfce0e3b",
   "metadata": {},
   "source": []
  },
  {
   "cell_type": "markdown",
   "id": "ac258778",
   "metadata": {},
   "source": []
  },
  {
   "cell_type": "markdown",
   "id": "928f114a",
   "metadata": {},
   "source": []
  },
  {
   "cell_type": "markdown",
   "id": "c442e7a5",
   "metadata": {},
   "source": []
  },
  {
   "cell_type": "markdown",
   "id": "adaeaecb",
   "metadata": {},
   "source": []
  },
  {
   "cell_type": "markdown",
   "id": "a7683271",
   "metadata": {},
   "source": []
  },
  {
   "cell_type": "markdown",
   "id": "4a0d74c7",
   "metadata": {},
   "source": []
  },
  {
   "cell_type": "markdown",
   "id": "f72411e5",
   "metadata": {},
   "source": []
  },
  {
   "cell_type": "markdown",
   "id": "bb702a5b",
   "metadata": {},
   "source": []
  },
  {
   "cell_type": "markdown",
   "id": "cd253714",
   "metadata": {},
   "source": []
  },
  {
   "cell_type": "markdown",
   "id": "8e486f64",
   "metadata": {},
   "source": []
  },
  {
   "cell_type": "markdown",
   "id": "c4b588d8",
   "metadata": {},
   "source": []
  },
  {
   "cell_type": "markdown",
   "id": "5f7a2eae",
   "metadata": {},
   "source": []
  },
  {
   "cell_type": "markdown",
   "id": "206d6b59",
   "metadata": {},
   "source": []
  },
  {
   "cell_type": "markdown",
   "id": "b27e07ad",
   "metadata": {},
   "source": []
  },
  {
   "cell_type": "markdown",
   "id": "80432899",
   "metadata": {},
   "source": []
  },
  {
   "cell_type": "markdown",
   "id": "6c4dcff6",
   "metadata": {},
   "source": []
  },
  {
   "cell_type": "markdown",
   "id": "4cb0d58e",
   "metadata": {},
   "source": []
  },
  {
   "cell_type": "markdown",
   "id": "cc194ea7",
   "metadata": {},
   "source": []
  },
  {
   "cell_type": "markdown",
   "id": "2c4a1992",
   "metadata": {},
   "source": []
  },
  {
   "cell_type": "markdown",
   "id": "4a7a8300",
   "metadata": {},
   "source": []
  },
  {
   "cell_type": "markdown",
   "id": "24b58188",
   "metadata": {},
   "source": []
  },
  {
   "cell_type": "markdown",
   "id": "7e55057f",
   "metadata": {},
   "source": []
  },
  {
   "cell_type": "markdown",
   "id": "84f1c85d",
   "metadata": {},
   "source": []
  },
  {
   "cell_type": "markdown",
   "id": "0c165879",
   "metadata": {},
   "source": []
  },
  {
   "cell_type": "markdown",
   "id": "ae0cc926",
   "metadata": {},
   "source": []
  },
  {
   "cell_type": "markdown",
   "id": "0b00135c",
   "metadata": {},
   "source": []
  },
  {
   "cell_type": "markdown",
   "id": "0d00e633",
   "metadata": {},
   "source": []
  },
  {
   "cell_type": "markdown",
   "id": "4637fa7a",
   "metadata": {},
   "source": []
  },
  {
   "cell_type": "markdown",
   "id": "dbbc0fda",
   "metadata": {},
   "source": []
  },
  {
   "cell_type": "markdown",
   "id": "b114778e",
   "metadata": {},
   "source": []
  },
  {
   "cell_type": "markdown",
   "id": "73743e9a",
   "metadata": {},
   "source": []
  },
  {
   "cell_type": "markdown",
   "id": "a356ad79",
   "metadata": {},
   "source": []
  },
  {
   "cell_type": "markdown",
   "id": "9e5ab28b",
   "metadata": {},
   "source": []
  },
  {
   "cell_type": "markdown",
   "id": "81ac6b50",
   "metadata": {},
   "source": []
  },
  {
   "cell_type": "markdown",
   "id": "63302884",
   "metadata": {},
   "source": []
  },
  {
   "cell_type": "markdown",
   "id": "aa50a177",
   "metadata": {},
   "source": []
  },
  {
   "cell_type": "markdown",
   "id": "7752d368",
   "metadata": {},
   "source": []
  },
  {
   "cell_type": "markdown",
   "id": "ef82b67f",
   "metadata": {},
   "source": []
  },
  {
   "cell_type": "markdown",
   "id": "7610c140",
   "metadata": {},
   "source": []
  },
  {
   "cell_type": "markdown",
   "id": "b066ed66",
   "metadata": {},
   "source": []
  },
  {
   "cell_type": "markdown",
   "id": "1c243cd9",
   "metadata": {},
   "source": []
  },
  {
   "cell_type": "markdown",
   "id": "acacc90b",
   "metadata": {},
   "source": []
  },
  {
   "cell_type": "markdown",
   "id": "08058974",
   "metadata": {},
   "source": []
  },
  {
   "cell_type": "markdown",
   "id": "20132b65",
   "metadata": {},
   "source": []
  },
  {
   "cell_type": "markdown",
   "id": "f8287724",
   "metadata": {},
   "source": []
  },
  {
   "cell_type": "markdown",
   "id": "79b63906",
   "metadata": {},
   "source": []
  },
  {
   "cell_type": "markdown",
   "id": "794ec62b",
   "metadata": {},
   "source": []
  },
  {
   "cell_type": "markdown",
   "id": "43c809e4",
   "metadata": {},
   "source": []
  },
  {
   "cell_type": "markdown",
   "id": "d70dd2d4",
   "metadata": {},
   "source": []
  },
  {
   "cell_type": "markdown",
   "id": "dc9f5c2e",
   "metadata": {},
   "source": []
  },
  {
   "cell_type": "markdown",
   "id": "a6515a4d",
   "metadata": {},
   "source": []
  },
  {
   "cell_type": "markdown",
   "id": "4a6f9828",
   "metadata": {},
   "source": []
  },
  {
   "cell_type": "markdown",
   "id": "4f92b03f",
   "metadata": {},
   "source": []
  },
  {
   "cell_type": "markdown",
   "id": "d1ed3209",
   "metadata": {},
   "source": []
  },
  {
   "cell_type": "markdown",
   "id": "641b8fb3",
   "metadata": {},
   "source": []
  },
  {
   "cell_type": "markdown",
   "id": "a7ab0210",
   "metadata": {},
   "source": []
  },
  {
   "cell_type": "markdown",
   "id": "8a5ca3a7",
   "metadata": {},
   "source": []
  },
  {
   "cell_type": "markdown",
   "id": "436950b4",
   "metadata": {},
   "source": []
  },
  {
   "cell_type": "markdown",
   "id": "419eb705",
   "metadata": {},
   "source": []
  },
  {
   "cell_type": "markdown",
   "id": "a20e225c",
   "metadata": {},
   "source": []
  },
  {
   "cell_type": "markdown",
   "id": "f2df382d",
   "metadata": {},
   "source": []
  },
  {
   "cell_type": "markdown",
   "id": "be3e6667",
   "metadata": {},
   "source": []
  },
  {
   "cell_type": "markdown",
   "id": "2816bdaa",
   "metadata": {},
   "source": []
  },
  {
   "cell_type": "markdown",
   "id": "8ef2419a",
   "metadata": {},
   "source": []
  },
  {
   "cell_type": "markdown",
   "id": "9dccaaff",
   "metadata": {},
   "source": []
  },
  {
   "cell_type": "markdown",
   "id": "50d372a3",
   "metadata": {},
   "source": []
  },
  {
   "cell_type": "markdown",
   "id": "1bed6576",
   "metadata": {},
   "source": []
  },
  {
   "cell_type": "markdown",
   "id": "e8582d48",
   "metadata": {},
   "source": []
  },
  {
   "cell_type": "markdown",
   "id": "9c1ab971",
   "metadata": {},
   "source": []
  },
  {
   "cell_type": "markdown",
   "id": "58d53f36",
   "metadata": {},
   "source": []
  },
  {
   "cell_type": "markdown",
   "id": "60a0d8d9",
   "metadata": {},
   "source": []
  },
  {
   "cell_type": "markdown",
   "id": "7fb192ec",
   "metadata": {},
   "source": []
  },
  {
   "cell_type": "markdown",
   "id": "e7443b0b",
   "metadata": {},
   "source": []
  },
  {
   "cell_type": "markdown",
   "id": "4f928404",
   "metadata": {},
   "source": []
  },
  {
   "cell_type": "markdown",
   "id": "dd76e4ec",
   "metadata": {},
   "source": []
  },
  {
   "cell_type": "markdown",
   "id": "cd752c9a",
   "metadata": {},
   "source": []
  },
  {
   "cell_type": "markdown",
   "id": "d6ac32da",
   "metadata": {},
   "source": []
  },
  {
   "cell_type": "markdown",
   "id": "87db87c6",
   "metadata": {},
   "source": []
  },
  {
   "cell_type": "markdown",
   "id": "d5ff2350",
   "metadata": {},
   "source": []
  },
  {
   "cell_type": "markdown",
   "id": "4c1de1da",
   "metadata": {},
   "source": []
  },
  {
   "cell_type": "markdown",
   "id": "8e308d71",
   "metadata": {},
   "source": []
  },
  {
   "cell_type": "markdown",
   "id": "61a5660d",
   "metadata": {},
   "source": []
  },
  {
   "cell_type": "markdown",
   "id": "7937b8d4",
   "metadata": {},
   "source": []
  },
  {
   "cell_type": "markdown",
   "id": "6485dead",
   "metadata": {},
   "source": []
  },
  {
   "cell_type": "markdown",
   "id": "3dcadf1e",
   "metadata": {},
   "source": []
  },
  {
   "cell_type": "markdown",
   "id": "994ede14",
   "metadata": {},
   "source": []
  },
  {
   "cell_type": "markdown",
   "id": "46a16384",
   "metadata": {},
   "source": []
  },
  {
   "cell_type": "markdown",
   "id": "5ced1666",
   "metadata": {},
   "source": []
  },
  {
   "cell_type": "markdown",
   "id": "42da2d80",
   "metadata": {},
   "source": []
  },
  {
   "cell_type": "markdown",
   "id": "9a34415b",
   "metadata": {},
   "source": []
  },
  {
   "cell_type": "markdown",
   "id": "8764a309",
   "metadata": {},
   "source": []
  },
  {
   "cell_type": "markdown",
   "id": "907711c0",
   "metadata": {},
   "source": []
  },
  {
   "cell_type": "markdown",
   "id": "1fafa274",
   "metadata": {},
   "source": []
  },
  {
   "cell_type": "markdown",
   "id": "6cf875a6",
   "metadata": {},
   "source": []
  },
  {
   "cell_type": "markdown",
   "id": "78a98e88",
   "metadata": {},
   "source": []
  },
  {
   "cell_type": "markdown",
   "id": "8a92480e",
   "metadata": {},
   "source": []
  },
  {
   "cell_type": "markdown",
   "id": "e7236c44",
   "metadata": {},
   "source": []
  },
  {
   "cell_type": "markdown",
   "id": "0b7a9303",
   "metadata": {},
   "source": []
  },
  {
   "cell_type": "markdown",
   "id": "2c0d419e",
   "metadata": {},
   "source": []
  },
  {
   "cell_type": "markdown",
   "id": "42422a0f",
   "metadata": {},
   "source": []
  },
  {
   "cell_type": "markdown",
   "id": "6f54b4f3",
   "metadata": {},
   "source": []
  },
  {
   "cell_type": "markdown",
   "id": "5dfbd620",
   "metadata": {},
   "source": []
  },
  {
   "cell_type": "markdown",
   "id": "d3402ed4",
   "metadata": {},
   "source": []
  },
  {
   "cell_type": "markdown",
   "id": "b56846fa",
   "metadata": {},
   "source": []
  }
 ],
 "metadata": {
  "kernelspec": {
   "display_name": "Python 3 (ipykernel)",
   "language": "python",
   "name": "python3"
  },
  "language_info": {
   "codemirror_mode": {
    "name": "ipython",
    "version": 3
   },
   "file_extension": ".py",
   "mimetype": "text/x-python",
   "name": "python",
   "nbconvert_exporter": "python",
   "pygments_lexer": "ipython3",
   "version": "3.9.15"
  }
 },
 "nbformat": 4,
 "nbformat_minor": 5
}
